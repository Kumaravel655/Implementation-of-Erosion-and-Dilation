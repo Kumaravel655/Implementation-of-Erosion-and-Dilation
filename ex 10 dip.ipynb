{
 "cells": [
  {
   "cell_type": "code",
   "execution_count": 3,
   "id": "478e8adf",
   "metadata": {},
   "outputs": [],
   "source": [
    "# Import the necessary packages\n",
    "import cv2\n",
    "import numpy as np\n",
    "import matplotlib.pyplot as plt\n",
    "\n",
    "# Create the Text using cv2.putText\n",
    "img1=np.zeros((300,700),dtype='uint8')\n",
    "font=cv2.FONT_ITALIC=3\n",
    "img2=cv2.putText(img1,\"Kumaravel\",(5,70),font,3,(255),5,cv2.LINE_AA)\n",
    "cv2.imshow(\"Original\",img2)\n",
    "cv2.waitKey(0)\n",
    "cv2.destroyAllWindows()\n"
   ]
  },
  {
   "cell_type": "code",
   "execution_count": 4,
   "id": "3d6fb114",
   "metadata": {},
   "outputs": [],
   "source": [
    "kernel1=np.ones((5,5),np.uint8)\n",
    "\n",
    "# Erode the image\n",
    "erode=cv2.erode(img2,kernel1)\n",
    "cv2.imshow(\"Erosion1\",erode)\n",
    "cv2.waitKey(0)\n",
    "cv2.destroyAllWindows()\n"
   ]
  },
  {
   "cell_type": "code",
   "execution_count": 6,
   "id": "271b832a",
   "metadata": {},
   "outputs": [],
   "source": [
    "dilute=cv2.dilate(img2,kernel1)\n",
    "cv2.imshow(\"Dilution\",dilute)\n",
    "cv2.waitKey(0)\n",
    "cv2.destroyAllWindows()"
   ]
  },
  {
   "cell_type": "code",
   "execution_count": null,
   "id": "e76ef3dc",
   "metadata": {},
   "outputs": [],
   "source": []
  }
 ],
 "metadata": {
  "kernelspec": {
   "display_name": "Python 3 (ipykernel)",
   "language": "python",
   "name": "python3"
  },
  "language_info": {
   "codemirror_mode": {
    "name": "ipython",
    "version": 3
   },
   "file_extension": ".py",
   "mimetype": "text/x-python",
   "name": "python",
   "nbconvert_exporter": "python",
   "pygments_lexer": "ipython3",
   "version": "3.9.7"
  }
 },
 "nbformat": 4,
 "nbformat_minor": 5
}
